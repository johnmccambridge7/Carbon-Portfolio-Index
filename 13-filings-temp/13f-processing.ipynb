{
 "cells": [
  {
   "cell_type": "code",
   "execution_count": 47,
   "metadata": {},
   "outputs": [],
   "source": [
    "import json\n",
    "import pandas as pd\n",
    "\n",
    "path_13f = ['bank_of_america_corp-current-2022-04-16_23_32_41.csv', \n",
    "            'bank_of_new_york_mellon_corp-current-2022-04-16_23_38_10.csv',\n",
    "            'blackrock_inc_-current-2022-04-16_23_31_52.csv',\n",
    "            'capital_international_investors-current-2022-04-16_23_39_10.csv',\n",
    "            'capital_research_global_investors-current-2022-04-16_23_39_18.csv',\n",
    "            'capital_world_investors-current-2022-04-16_23_37_41.csv',\n",
    "            'citadel_advisors_llc-current-2022-04-16_23_38_56.csv',\n",
    "            'fmr_llc-current-2022-04-16_23_32_15.csv',\n",
    "            'geode_capital_management__llc-current-2022-04-16_23_36_16.csv',\n",
    "            'goldman_sachs_group_inc-current-2022-04-16_23_38_23.csv',\n",
    "            'jpmorgan_chase_&_company-current-2022-04-16_23_35_57.csv',\n",
    "            'morgan_stanley-current-2022-04-16_23_36_36.csv',\n",
    "            'norges_bank-current-2022-04-16_23_38_50.csv',\n",
    "            'northern_trust_corp-current-2022-04-16_23_38_00.csv',\n",
    "            'price_t_rowe_associates_inc-current-2022-04-16_23_32_24.csv',\n",
    "            'royal_bank_of_canada-current-2022-04-16_23_41_23.csv',\n",
    "            'state_street_corp-current-2022-04-16_23_32_03.csv',\n",
    "            'susquehanna_international_group__llp-current-2022-04-16_23_36_58.csv',\n",
    "            'vanguard_group_inc-current-2022-04-16_23_30_34.csv',\n",
    "            'wellington_management_group_llp-current-2022-04-16_23_37_50.csv',\n",
    "            ]\n",
    "\n",
    "\n",
    "records_13f = {}\n",
    "for path_13f in path_13f:\n",
    "    with open(path_13f, 'r') as f:\n",
    "        df_13f = pd.read_csv(f)\n",
    "        df_13f[\"Type\"] = df_13f[\"Type\"].fillna(\"\")\n",
    "        df_13f = df_13f[df_13f[\"Type\"] == \"\"]\n",
    "\n",
    "        df_13f = df_13f[[\"Symbol\", \"Shares Held\", \"Market Value\"]]\n",
    "        records_13f[path_13f] = df_13f.to_dict(orient=\"records\")\n",
    "\n",
    "\n",
    "merged_13fs_path = 'merged_13fs.json'\n",
    "with open(merged_13fs_path, 'w') as f:\n",
    "    json.dump(records_13f, f, indent=2)"
   ]
  },
  {
   "cell_type": "code",
   "execution_count": null,
   "metadata": {},
   "outputs": [],
   "source": []
  }
 ],
 "metadata": {
  "interpreter": {
   "hash": "b0fa6594d8f4cbf19f97940f81e996739fb7646882a419484c72d19e05852a7e"
  },
  "kernelspec": {
   "display_name": "Python 3.9.9 64-bit",
   "language": "python",
   "name": "python3"
  },
  "language_info": {
   "codemirror_mode": {
    "name": "ipython",
    "version": 3
   },
   "file_extension": ".py",
   "mimetype": "text/x-python",
   "name": "python",
   "nbconvert_exporter": "python",
   "pygments_lexer": "ipython3",
   "version": "3.9.9"
  },
  "orig_nbformat": 4
 },
 "nbformat": 4,
 "nbformat_minor": 2
}
