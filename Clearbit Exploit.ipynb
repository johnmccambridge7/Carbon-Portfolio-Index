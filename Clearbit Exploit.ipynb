{
 "cells": [
  {
   "cell_type": "code",
   "execution_count": 8,
   "id": "51252254",
   "metadata": {},
   "outputs": [],
   "source": [
    "from urllib.request import urlopen\n",
    "import json\n",
    "import pandas as pd"
   ]
  },
  {
   "cell_type": "code",
   "execution_count": 20,
   "id": "8568cb51",
   "metadata": {},
   "outputs": [],
   "source": [
    "url = \"https://autocomplete.clearbit.com/v1/companies/suggest?query=\""
   ]
  },
  {
   "cell_type": "code",
   "execution_count": 22,
   "id": "ed52d68d",
   "metadata": {},
   "outputs": [],
   "source": [
    "# response = urlopen(url)\n",
    "# data_json = json.loads(response.read())"
   ]
  },
  {
   "cell_type": "code",
   "execution_count": 23,
   "id": "12034b6f",
   "metadata": {},
   "outputs": [],
   "source": [
    "df = pd.read_csv('imsofuckinghappy.csv')"
   ]
  },
  {
   "cell_type": "code",
   "execution_count": 59,
   "id": "dbfe790e",
   "metadata": {},
   "outputs": [],
   "source": [
    "companies = list(set(df['Unnamed: 0']))"
   ]
  },
  {
   "cell_type": "code",
   "execution_count": 60,
   "id": "ed05d69e",
   "metadata": {},
   "outputs": [
    {
     "name": "stdout",
     "output_type": "stream",
     "text": [
      "Failed: ASHLAND GLOBAL\n",
      "Failed: SUNCOKE \n",
      "Failed: REX AMERICAN\n",
      "Failed: ALLEGHENY TECHNOLOGIES\n"
     ]
    }
   ],
   "source": [
    "logos = {}\n",
    "for i, company in enumerate(companies):\n",
    "    company = company.replace(\"INC\", \"\").replace(\"CORP\", \"\").replace(\"ENERGY\", \"\").replace(\"INTERNATIONAL\", \"\").replace(\"RESOURCES\", \"\")\n",
    "    c = company.split(\" \")\n",
    "    n = c[0] + \" \" + c[1] if len(c) > 1 else c[0]\n",
    "    response = urlopen(url + n.replace(\" \", \"%20\"))\n",
    "    data_json = json.loads(response.read())\n",
    "    \n",
    "    if len(data_json) > 0:\n",
    "        logos[companies[i]] = data_json[0][\"logo\"]\n",
    "    else:\n",
    "        print('Failed:', n)"
   ]
  },
  {
   "cell_type": "code",
   "execution_count": 61,
   "id": "5d01f3d9",
   "metadata": {},
   "outputs": [
    {
     "data": {
      "text/plain": [
       "(98, 102)"
      ]
     },
     "execution_count": 61,
     "metadata": {},
     "output_type": "execute_result"
    }
   ],
   "source": [
    "len(logos), len(companies)"
   ]
  },
  {
   "cell_type": "code",
   "execution_count": 62,
   "id": "ed525f14",
   "metadata": {},
   "outputs": [
    {
     "data": {
      "text/plain": [
       "{'MGM RESORTS INTERNATIONAL': 'https://logo.clearbit.com/mgmresorts.com',\n",
       " 'DARLING INGREDIENTS INC': 'https://logo.clearbit.com/darlingii.com',\n",
       " 'LAMB WESTON HOLDINGS INC': 'https://logo.clearbit.com/lambweston.com',\n",
       " 'WASTE CONNECTIONS INC': 'https://logo.clearbit.com/wasteconnections.com',\n",
       " 'NEXTERA ENERGY INC': 'https://logo.clearbit.com/nexteraenergy.com',\n",
       " 'PORTLAND GENERAL ELECTRIC CO': 'https://logo.clearbit.com/portlandgeneral.com',\n",
       " 'HALLADOR ENERGY CO': 'https://logo.clearbit.com/halladorenergy.com',\n",
       " 'QORVO INC': 'https://logo.clearbit.com/qorvo.com',\n",
       " 'AMERICAN AIRLINES GROUP INC': 'https://logo.clearbit.com/aa.com',\n",
       " 'EVERSOURCE ENERGY': 'https://logo.clearbit.com/eversource.com',\n",
       " 'SEMPRA ENERGY': 'https://logo.clearbit.com/sempra.com',\n",
       " 'PPL CORP': 'https://logo.clearbit.com/ppld.org',\n",
       " 'CVR ENERGY INC': 'https://logo.clearbit.com/c3vr.com',\n",
       " 'ALTO INGREDIENTS INC': 'https://logo.clearbit.com/altoingredients.com',\n",
       " 'DELEK US HOLDINGS INC': 'https://logo.clearbit.com/delekus.com',\n",
       " 'GRAPHIC PACKAGING HOLDING CO': 'https://logo.clearbit.com/graphicpkg.com',\n",
       " 'DUPONT DE NEMOURS INC': 'https://logo.clearbit.com/dupont.de',\n",
       " 'NEWMONT CORP': 'https://logo.clearbit.com/newmont.com',\n",
       " 'PAR PACIFIC HOLDINGS INC': 'https://logo.clearbit.com/parpacific.com',\n",
       " 'MARATHON PETROLEUM CORP': 'https://logo.clearbit.com/marathonpetroleum.com',\n",
       " 'MASONITE INTERNATIONAL CORP': 'https://logo.clearbit.com/masonite.com',\n",
       " 'COEUR MINING INC': 'https://logo.clearbit.com/coeur.com',\n",
       " 'ABBVIE INC': 'https://logo.clearbit.com/abbvie.com',\n",
       " 'BERRY CORP': 'https://logo.clearbit.com/berry.edu',\n",
       " 'EVERGY INC': 'https://logo.clearbit.com/evergy.com',\n",
       " 'HUNTSMAN CORP': 'https://logo.clearbit.com/seniorgames.net',\n",
       " 'EDISON INTERNATIONAL': 'https://logo.clearbit.com/edison.k12.nj.us',\n",
       " 'POST HOLDINGS INC': 'https://logo.clearbit.com/postholdings.com',\n",
       " 'HERITAGE-CRYSTAL CLEAN INC': 'https://logo.clearbit.com/crystal-clean.com',\n",
       " 'EASTMAN CHEMICAL CO': 'https://logo.clearbit.com/adaptsolvents.com',\n",
       " 'CF INDUSTRIES HOLDINGS INC': 'https://logo.clearbit.com/cfindustries.com',\n",
       " 'CNX RESOURCES CORP': 'https://logo.clearbit.com/cnx-software.com',\n",
       " 'TIMKENSTEEL CORP': 'https://logo.clearbit.com/timkensteel.com',\n",
       " 'DIAMONDBACK ENERGY INC': 'https://logo.clearbit.com/diamondback.com',\n",
       " 'NEENAH INC': 'https://logo.clearbit.com/neenahpaper.com',\n",
       " 'RANGE RESOURCES CORP': 'https://logo.clearbit.com/rangeme.com',\n",
       " 'GREEN PLAINS INC': 'https://logo.clearbit.com/gpreinc.com',\n",
       " 'ALCOA CORP': 'https://logo.clearbit.com/alcoa.com',\n",
       " 'O-I GLASS INC': 'https://logo.clearbit.com/o-i.com',\n",
       " 'CONSOL ENERGY INC': 'https://logo.clearbit.com/consoleroms.com',\n",
       " 'AVANGRID INC': 'https://logo.clearbit.com/avangrid.com',\n",
       " 'TARGA RESOURCES CORP': 'https://logo.clearbit.com/targatocn.it',\n",
       " 'CONAGRA BRANDS INC': 'https://logo.clearbit.com/conagrabrands.com',\n",
       " 'MERCK & CO INC': 'https://logo.clearbit.com/sigmaaldrich.com',\n",
       " 'WARRIOR MET COAL INC': 'https://logo.clearbit.com/warriormetcoal.com',\n",
       " 'TESLA INC': 'https://logo.clearbit.com/tesla.com',\n",
       " 'KELLOGG CO': 'https://logo.clearbit.com/kellogg.edu',\n",
       " 'ADVANSIX INC': 'https://logo.clearbit.com/advansix.com',\n",
       " 'GEVO INC': 'https://logo.clearbit.com/gevo.com',\n",
       " 'ARCOSA INC': 'https://logo.clearbit.com/arcosanti.org',\n",
       " 'BIOGEN INC': 'https://logo.clearbit.com/biogen.com',\n",
       " 'MATERION CORP': 'https://logo.clearbit.com/materion.com',\n",
       " 'FUTUREFUEL CORP': 'https://logo.clearbit.com/futurefuel.io',\n",
       " 'PEPSICO INC': 'https://logo.clearbit.com/pepsico.com',\n",
       " 'EQT CORP': 'https://logo.clearbit.com/eqt.com',\n",
       " 'RAMACO RESOURCES INC': 'https://logo.clearbit.com/rama.com.ua',\n",
       " 'ARCHROCK INC': 'https://logo.clearbit.com/archrock.com',\n",
       " 'SILVERBOW RESOURCES INC': 'https://logo.clearbit.com/silverbowflyshop.com',\n",
       " 'ALLISON TRANSMISSION HOLDINGS INC': 'https://logo.clearbit.com/allisontransmission.com',\n",
       " 'KAISER ALUMINUM CORP': 'https://logo.clearbit.com/kaiseraluminum.com',\n",
       " 'BERRY GLOBAL GROUP INC': 'https://logo.clearbit.com/berryplastics.com',\n",
       " 'TRECORA RESOURCES': 'https://logo.clearbit.com/trecchem.com',\n",
       " 'MATADOR RESOURCES CO': 'https://logo.clearbit.com/matadornetwork.com',\n",
       " 'WEC ENERGY GROUP INC': 'https://logo.clearbit.com/wecenergygroup.com',\n",
       " 'FREEPORT-MCMORAN INC': 'https://logo.clearbit.com/fcx.com',\n",
       " 'CHESAPEAKE UTILITIES CORP': 'https://logo.clearbit.com/chpkgas.com',\n",
       " 'PHILLIPS 66': 'https://logo.clearbit.com/philips.com',\n",
       " 'PNM RESOURCES INC': 'https://logo.clearbit.com/pnmac.com',\n",
       " 'ONE GAS INC': 'https://logo.clearbit.com/onegas.com',\n",
       " 'BROADCOM INC': 'https://logo.clearbit.com/broadcom.com',\n",
       " 'CORTEVA INC': 'https://logo.clearbit.com/corteva.us',\n",
       " 'HONEYWELL INTERNATIONAL INC': 'https://logo.clearbit.com/honeywell.com',\n",
       " 'PACKAGING CORP OF AMERICA': 'https://logo.clearbit.com/packagingoftheworld.com',\n",
       " 'SOUTHWEST GAS HOLDINGS INC': 'https://logo.clearbit.com/swgas.com',\n",
       " 'DOW INC': 'https://logo.clearbit.com/downdetector.com',\n",
       " 'COMPASS MINERALS INTERNATIONAL INC': 'https://logo.clearbit.com/compassminerals.com',\n",
       " 'OWENS CORNING': 'https://logo.clearbit.com/owenscorning.com',\n",
       " 'RENEWABLE ENERGY GROUP INC': 'https://logo.clearbit.com/regi.com',\n",
       " 'CLEVELAND-CLIFFS INC': 'https://logo.clearbit.com/clevelandcliffs.com',\n",
       " 'BOISE CASCADE CO': 'https://logo.clearbit.com/bc.com',\n",
       " 'HUNTINGTON INGALLS INDUSTRIES INC': 'https://logo.clearbit.com/huntingtoningalls.com',\n",
       " 'TALOS ENERGY INC': 'https://logo.clearbit.com/talosintelligence.com',\n",
       " 'ANTERO RESOURCES CORP': 'https://logo.clearbit.com/anteroresources.com',\n",
       " 'WESTROCK CO': 'https://logo.clearbit.com/westrock.com',\n",
       " 'OVINTIV INC': 'https://logo.clearbit.com/ovintiv.com',\n",
       " 'AEMETIS INC': 'https://logo.clearbit.com/aemetis.com',\n",
       " 'CLEARWATER PAPER CORP': 'https://logo.clearbit.com/clearwaterpaper.com',\n",
       " 'INGEVITY CORP': 'https://logo.clearbit.com/ingevity.com',\n",
       " 'RAYONIER ADVANCED MATERIALS INC': 'https://logo.clearbit.com/rayonieram.com',\n",
       " 'SM ENERGY CO': 'https://logo.clearbit.com/smartsheet.com',\n",
       " 'HOWMET AEROSPACE INC': 'https://logo.clearbit.com/howmet.com',\n",
       " 'PDC ENERGY INC': 'https://logo.clearbit.com/pdc.tv',\n",
       " 'ABBOTT LABORATORIES': 'https://logo.clearbit.com/cardiovascular.abbott',\n",
       " 'INGREDION INC': 'https://logo.clearbit.com/ingredion.com',\n",
       " 'VISTRA CORP': 'https://logo.clearbit.com/vistra.com',\n",
       " 'MDU RESOURCES GROUP INC': 'https://logo.clearbit.com/mdusd.org',\n",
       " 'DOMINION ENERGY INC': 'https://logo.clearbit.com/dominionenergy.com',\n",
       " 'NORTHWEST NATURAL HOLDING CO': 'https://logo.clearbit.com/nw-naturals.net'}"
      ]
     },
     "execution_count": 62,
     "metadata": {},
     "output_type": "execute_result"
    }
   ],
   "source": [
    "logos"
   ]
  },
  {
   "cell_type": "code",
   "execution_count": 63,
   "id": "e5fce390",
   "metadata": {},
   "outputs": [],
   "source": [
    "with open(\"logos.json\", \"w\") as outfile:\n",
    "    json.dump(logos, outfile)"
   ]
  },
  {
   "cell_type": "code",
   "execution_count": null,
   "id": "fdf2fd4d",
   "metadata": {},
   "outputs": [],
   "source": []
  }
 ],
 "metadata": {
  "kernelspec": {
   "display_name": "Python 3 (ipykernel)",
   "language": "python",
   "name": "python3"
  },
  "language_info": {
   "codemirror_mode": {
    "name": "ipython",
    "version": 3
   },
   "file_extension": ".py",
   "mimetype": "text/x-python",
   "name": "python",
   "nbconvert_exporter": "python",
   "pygments_lexer": "ipython3",
   "version": "3.9.7"
  }
 },
 "nbformat": 4,
 "nbformat_minor": 5
}
